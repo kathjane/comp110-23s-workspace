{
 "cells": [
  {
   "attachments": {},
   "cell_type": "markdown",
   "metadata": {},
   "source": [
    "# Intro to Jupyter Notebooks\n",
    "Here I will demonstrate some functionality of jupyter notebooks."
   ]
  },
  {
   "attachments": {},
   "cell_type": "markdown",
   "metadata": {},
   "source": [
    "## Running Python\n",
    "\n",
    "* Create a python cell by pressing `+code`\n",
    "* Always prints the expression on the last line"
   ]
  },
  {
   "cell_type": "code",
   "execution_count": 5,
   "metadata": {},
   "outputs": [
    {
     "name": "stdout",
     "output_type": "stream",
     "text": [
      "Kate\n"
     ]
    }
   ],
   "source": [
    "person: str = \"Kate\" #try changing variable name to see what happens\n",
    "print(person)"
   ]
  },
  {
   "attachments": {},
   "cell_type": "markdown",
   "metadata": {},
   "source": [
    "## Variables\n",
    "\n",
    "* Variables can be used between cells\n",
    "* `Restart` clears variables/memory\n",
    "* Must run cell where variable is defined before running cell that uses variable\n"
   ]
  },
  {
   "cell_type": "code",
   "execution_count": 7,
   "metadata": {},
   "outputs": [
    {
     "name": "stdout",
     "output_type": "stream",
     "text": [
      "Howdy, Kate!\n"
     ]
    }
   ],
   "source": [
    "print(f\"Howdy, {person}!\")"
   ]
  },
  {
   "attachments": {},
   "cell_type": "markdown",
   "metadata": {},
   "source": [
    "## Making Changes and Re-Opening a Notebook\n",
    "\n",
    "0. (If making changes) Save! \n",
    "1. Restart kernel (with `restart`).\n",
    "2. Clear outputs (with `clear all outsputs`).\n",
    "3. `Run All`"
   ]
  },
  {
   "attachments": {},
   "cell_type": "markdown",
   "metadata": {},
   "source": [
    "## Importing Functions\n",
    "\n",
    "* You can import functions in jupyter notebooks like you do in other python files\n"
   ]
  },
  {
   "cell_type": "code",
   "execution_count": 8,
   "metadata": {},
   "outputs": [
    {
     "data": {
      "text/plain": [
       "5"
      ]
     },
     "execution_count": 8,
     "metadata": {},
     "output_type": "execute_result"
    }
   ],
   "source": [
    "from my_functions import addition\n",
    "addition(2,3)"
   ]
  },
  {
   "attachments": {},
   "cell_type": "markdown",
   "metadata": {},
   "source": [
    "## Practice Function for EX06\n"
   ]
  },
  {
   "cell_type": "code",
   "execution_count": 4,
   "metadata": {},
   "outputs": [
    {
     "name": "stdout",
     "output_type": "stream",
     "text": [
      "<function hiding_place at 0x10e58af20>\n"
     ]
    }
   ],
   "source": [
    "def hiding_place():\n",
    "    print(\"Hello Kate, let's choose a place where you can hide your food for the winter\")\n",
    "    location: str = input()\n",
    "    print(f\"To choose a hiding place type 'tree', 'ground', or 'beach' {location}\")\n",
    "    if location == \"tree\":\n",
    "        print(f\"Congratulations! That was the best choice, you earned 2 adventure points.\")\n",
    "        points =+ 2\n",
    "    if location == \"ground\":\n",
    "        print(f\"That was a good choice, you earned 1 adventure point.\")\n",
    "        points =+ 1\n",
    "    if location == \"beach\":\n",
    "        print(f\"That was not the best choice, you lost 1 adventure point.\")\n",
    "        points =- 1\n",
    "    if location != \"tree\" or \"ground\" or \"beach\":\n",
    "        print(f\"Your answer wasn't any of the right choices, please try again: \")\n",
    "        location = input()\n",
    "\n",
    "print(hiding_place)"
   ]
  }
 ],
 "metadata": {
  "kernelspec": {
   "display_name": "Python 3",
   "language": "python",
   "name": "python3"
  },
  "language_info": {
   "codemirror_mode": {
    "name": "ipython",
    "version": 3
   },
   "file_extension": ".py",
   "mimetype": "text/x-python",
   "name": "python",
   "nbconvert_exporter": "python",
   "pygments_lexer": "ipython3",
   "version": "3.11.1 (v3.11.1:a7a450f84a, Dec  6 2022, 15:24:06) [Clang 13.0.0 (clang-1300.0.29.30)]"
  },
  "orig_nbformat": 4,
  "vscode": {
   "interpreter": {
    "hash": "aee8b7b246df8f9039afb4144a1f6fd8d2ca17a180786b69acc140d282b71a49"
   }
  }
 },
 "nbformat": 4,
 "nbformat_minor": 2
}
